{
  "nbformat": 4,
  "nbformat_minor": 0,
  "metadata": {
    "colab": {
      "name": "SoftwareRequirementsClassification_Project.ipynb",
      "provenance": [],
      "collapsed_sections": [],
      "include_colab_link": true
    },
    "kernelspec": {
      "name": "python3",
      "display_name": "Python 3"
    },
    "language_info": {
      "name": "python"
    }
  },
  "cells": [
    {
      "cell_type": "markdown",
      "metadata": {
        "id": "view-in-github",
        "colab_type": "text"
      },
      "source": [
        "<a href=\"https://colab.research.google.com/github/ahmadxcix/Software-Requirements-Classification/blob/main/SoftwareRequirementsClassification_Project.ipynb\" target=\"_parent\"><img src=\"https://colab.research.google.com/assets/colab-badge.svg\" alt=\"Open In Colab\"/></a>"
      ]
    },
    {
      "cell_type": "markdown",
      "source": [
        "# **Software Requirement Classifications**\n",
        "**Ahmed Badawood 201771730 & Khaled Araj 201726790**\n",
        "\n",
        "**ICS 485 Project**\n",
        "\n",
        "The idea of this project is to classify software requirements for 15 projects in the dataset with 12 classes for classify each requirement such as Functional, Usability, Security ... etc.\n",
        "\n",
        "We will start importing the libraries including numpy, pandas, matplotlib ... etc. And tensorflow. Then, linking the dataset with this file."
      ],
      "metadata": {
        "id": "2tJ1EQNdINS9"
      }
    },
    {
      "cell_type": "code",
      "source": [
        "from google.colab import drive\n",
        "drive.mount('/content/drive')"
      ],
      "metadata": {
        "colab": {
          "base_uri": "https://localhost:8080/"
        },
        "id": "A7RLKuk-BYgO",
        "outputId": "76f832ae-bc46-4a8b-afd1-d0525c801599"
      },
      "execution_count": 1,
      "outputs": [
        {
          "output_type": "stream",
          "name": "stdout",
          "text": [
            "Mounted at /content/drive\n"
          ]
        }
      ]
    },
    {
      "cell_type": "code",
      "source": [
        "%cd '/content/drive/MyDrive/Colab Notebooks/ICS485/PROJECT'"
      ],
      "metadata": {
        "id": "B-SoS04tBg2U",
        "colab": {
          "base_uri": "https://localhost:8080/"
        },
        "outputId": "a5aa50e0-6a53-4090-b15f-aa8ba6752e9a"
      },
      "execution_count": 2,
      "outputs": [
        {
          "output_type": "stream",
          "name": "stdout",
          "text": [
            "/content/drive/MyDrive/Colab Notebooks/ICS485/PROJECT\n"
          ]
        }
      ]
    },
    {
      "cell_type": "code",
      "metadata": {
        "id": "ELs2XWapZKYF",
        "colab": {
          "base_uri": "https://localhost:8080/"
        },
        "outputId": "f9cbeab9-73a4-426d-bfd2-409028ce7cdf"
      },
      "source": [
        "import numpy as np\n",
        "import pandas as pd\n",
        "import matplotlib.pyplot as plt\n",
        "import seaborn as sns\n",
        "import warnings\n",
        "import sklearn.metrics\n",
        "import nltk\n",
        "import re\n",
        "from sklearn.feature_extraction.text import TfidfVectorizer\n",
        "from sklearn.preprocessing import LabelEncoder\n",
        "from sklearn.model_selection import train_test_split\n",
        "from bs4 import BeautifulSoup\n",
        "from collections import Counter\n",
        "from imblearn.over_sampling import SMOTE\n",
        "\n",
        "\n",
        "plt.style.use('ggplot')\n",
        "nltk.download('stopwords')\n",
        "warnings.filterwarnings(\"ignore\")"
      ],
      "execution_count": 3,
      "outputs": [
        {
          "output_type": "stream",
          "name": "stdout",
          "text": [
            "[nltk_data] Downloading package stopwords to /root/nltk_data...\n",
            "[nltk_data]   Unzipping corpora/stopwords.zip.\n"
          ]
        }
      ]
    },
    {
      "cell_type": "markdown",
      "source": [
        "## Prepare The Data\n",
        "**Here**, we added the dataset path to the file and printed the first and last 5 rows to make sure it's connected successfully.\n",
        "\n",
        "You can see the number of rows and columns below the schedule."
      ],
      "metadata": {
        "id": "-9bFYA9KKhn7"
      }
    },
    {
      "cell_type": "code",
      "metadata": {
        "id": "m-TQFhRmZ_PU",
        "colab": {
          "base_uri": "https://localhost:8080/",
          "height": 705
        },
        "outputId": "37f9cf7a-d4b0-455d-ce08-b95157c14caa"
      },
      "source": [
        "file_path = \"/content/drive/MyDrive/Colab Notebooks/ICS485/PROJECT/SoftwareRequirementsClassification.xlsx\"\n",
        "df = pd.read_excel(file_path, usecols=\"B:C\")\n",
        "df"
      ],
      "execution_count": 4,
      "outputs": [
        {
          "output_type": "execute_result",
          "data": {
            "text/html": [
              "\n",
              "  <div id=\"df-295329d3-d9b8-4659-b5e7-e3806964306c\">\n",
              "    <div class=\"colab-df-container\">\n",
              "      <div>\n",
              "<style scoped>\n",
              "    .dataframe tbody tr th:only-of-type {\n",
              "        vertical-align: middle;\n",
              "    }\n",
              "\n",
              "    .dataframe tbody tr th {\n",
              "        vertical-align: top;\n",
              "    }\n",
              "\n",
              "    .dataframe thead th {\n",
              "        text-align: right;\n",
              "    }\n",
              "</style>\n",
              "<table border=\"1\" class=\"dataframe\">\n",
              "  <thead>\n",
              "    <tr style=\"text-align: right;\">\n",
              "      <th></th>\n",
              "      <th>Requirement</th>\n",
              "      <th>Label</th>\n",
              "    </tr>\n",
              "  </thead>\n",
              "  <tbody>\n",
              "    <tr>\n",
              "      <th>0</th>\n",
              "      <td>'The system shall refresh the display every 60...</td>\n",
              "      <td>PE</td>\n",
              "    </tr>\n",
              "    <tr>\n",
              "      <th>1</th>\n",
              "      <td>'The application shall match the color of the ...</td>\n",
              "      <td>LF</td>\n",
              "    </tr>\n",
              "    <tr>\n",
              "      <th>2</th>\n",
              "      <td>' If projected the data must be readable. On a...</td>\n",
              "      <td>US</td>\n",
              "    </tr>\n",
              "    <tr>\n",
              "      <th>3</th>\n",
              "      <td>' The product shall be available during normal...</td>\n",
              "      <td>A</td>\n",
              "    </tr>\n",
              "    <tr>\n",
              "      <th>4</th>\n",
              "      <td>' If projected the data must be understandable...</td>\n",
              "      <td>US</td>\n",
              "    </tr>\n",
              "    <tr>\n",
              "      <th>...</th>\n",
              "      <td>...</td>\n",
              "      <td>...</td>\n",
              "    </tr>\n",
              "    <tr>\n",
              "      <th>619</th>\n",
              "      <td>'\\tUser access should be limited to the permis...</td>\n",
              "      <td>SE</td>\n",
              "    </tr>\n",
              "    <tr>\n",
              "      <th>620</th>\n",
              "      <td>' The product must comply with the intranet pa...</td>\n",
              "      <td>LF</td>\n",
              "    </tr>\n",
              "    <tr>\n",
              "      <th>621</th>\n",
              "      <td>' The intranet pages should display appropriat...</td>\n",
              "      <td>LF</td>\n",
              "    </tr>\n",
              "    <tr>\n",
              "      <th>622</th>\n",
              "      <td>' The users should be able to easily use the s...</td>\n",
              "      <td>US</td>\n",
              "    </tr>\n",
              "    <tr>\n",
              "      <th>623</th>\n",
              "      <td>' The product interface should be fast. The re...</td>\n",
              "      <td>PE</td>\n",
              "    </tr>\n",
              "  </tbody>\n",
              "</table>\n",
              "<p>624 rows × 2 columns</p>\n",
              "</div>\n",
              "      <button class=\"colab-df-convert\" onclick=\"convertToInteractive('df-295329d3-d9b8-4659-b5e7-e3806964306c')\"\n",
              "              title=\"Convert this dataframe to an interactive table.\"\n",
              "              style=\"display:none;\">\n",
              "        \n",
              "  <svg xmlns=\"http://www.w3.org/2000/svg\" height=\"24px\"viewBox=\"0 0 24 24\"\n",
              "       width=\"24px\">\n",
              "    <path d=\"M0 0h24v24H0V0z\" fill=\"none\"/>\n",
              "    <path d=\"M18.56 5.44l.94 2.06.94-2.06 2.06-.94-2.06-.94-.94-2.06-.94 2.06-2.06.94zm-11 1L8.5 8.5l.94-2.06 2.06-.94-2.06-.94L8.5 2.5l-.94 2.06-2.06.94zm10 10l.94 2.06.94-2.06 2.06-.94-2.06-.94-.94-2.06-.94 2.06-2.06.94z\"/><path d=\"M17.41 7.96l-1.37-1.37c-.4-.4-.92-.59-1.43-.59-.52 0-1.04.2-1.43.59L10.3 9.45l-7.72 7.72c-.78.78-.78 2.05 0 2.83L4 21.41c.39.39.9.59 1.41.59.51 0 1.02-.2 1.41-.59l7.78-7.78 2.81-2.81c.8-.78.8-2.07 0-2.86zM5.41 20L4 18.59l7.72-7.72 1.47 1.35L5.41 20z\"/>\n",
              "  </svg>\n",
              "      </button>\n",
              "      \n",
              "  <style>\n",
              "    .colab-df-container {\n",
              "      display:flex;\n",
              "      flex-wrap:wrap;\n",
              "      gap: 12px;\n",
              "    }\n",
              "\n",
              "    .colab-df-convert {\n",
              "      background-color: #E8F0FE;\n",
              "      border: none;\n",
              "      border-radius: 50%;\n",
              "      cursor: pointer;\n",
              "      display: none;\n",
              "      fill: #1967D2;\n",
              "      height: 32px;\n",
              "      padding: 0 0 0 0;\n",
              "      width: 32px;\n",
              "    }\n",
              "\n",
              "    .colab-df-convert:hover {\n",
              "      background-color: #E2EBFA;\n",
              "      box-shadow: 0px 1px 2px rgba(60, 64, 67, 0.3), 0px 1px 3px 1px rgba(60, 64, 67, 0.15);\n",
              "      fill: #174EA6;\n",
              "    }\n",
              "\n",
              "    [theme=dark] .colab-df-convert {\n",
              "      background-color: #3B4455;\n",
              "      fill: #D2E3FC;\n",
              "    }\n",
              "\n",
              "    [theme=dark] .colab-df-convert:hover {\n",
              "      background-color: #434B5C;\n",
              "      box-shadow: 0px 1px 3px 1px rgba(0, 0, 0, 0.15);\n",
              "      filter: drop-shadow(0px 1px 2px rgba(0, 0, 0, 0.3));\n",
              "      fill: #FFFFFF;\n",
              "    }\n",
              "  </style>\n",
              "\n",
              "      <script>\n",
              "        const buttonEl =\n",
              "          document.querySelector('#df-295329d3-d9b8-4659-b5e7-e3806964306c button.colab-df-convert');\n",
              "        buttonEl.style.display =\n",
              "          google.colab.kernel.accessAllowed ? 'block' : 'none';\n",
              "\n",
              "        async function convertToInteractive(key) {\n",
              "          const element = document.querySelector('#df-295329d3-d9b8-4659-b5e7-e3806964306c');\n",
              "          const dataTable =\n",
              "            await google.colab.kernel.invokeFunction('convertToInteractive',\n",
              "                                                     [key], {});\n",
              "          if (!dataTable) return;\n",
              "\n",
              "          const docLinkHtml = 'Like what you see? Visit the ' +\n",
              "            '<a target=\"_blank\" href=https://colab.research.google.com/notebooks/data_table.ipynb>data table notebook</a>'\n",
              "            + ' to learn more about interactive tables.';\n",
              "          element.innerHTML = '';\n",
              "          dataTable['output_type'] = 'display_data';\n",
              "          await google.colab.output.renderOutput(dataTable, element);\n",
              "          const docLink = document.createElement('div');\n",
              "          docLink.innerHTML = docLinkHtml;\n",
              "          element.appendChild(docLink);\n",
              "        }\n",
              "      </script>\n",
              "    </div>\n",
              "  </div>\n",
              "  "
            ],
            "text/plain": [
              "                                           Requirement Label\n",
              "0    'The system shall refresh the display every 60...    PE\n",
              "1    'The application shall match the color of the ...    LF\n",
              "2    ' If projected the data must be readable. On a...    US\n",
              "3    ' The product shall be available during normal...     A\n",
              "4    ' If projected the data must be understandable...    US\n",
              "..                                                 ...   ...\n",
              "619  '\\tUser access should be limited to the permis...    SE\n",
              "620  ' The product must comply with the intranet pa...    LF\n",
              "621  ' The intranet pages should display appropriat...    LF\n",
              "622  ' The users should be able to easily use the s...    US\n",
              "623  ' The product interface should be fast. The re...    PE\n",
              "\n",
              "[624 rows x 2 columns]"
            ]
          },
          "metadata": {},
          "execution_count": 4
        }
      ]
    },
    {
      "cell_type": "code",
      "source": [
        "df.Label.value_counts()"
      ],
      "metadata": {
        "id": "j3oi-naLQ3dU",
        "colab": {
          "base_uri": "https://localhost:8080/"
        },
        "outputId": "fc31d8b4-2f68-488c-9266-00205cd83085"
      },
      "execution_count": 5,
      "outputs": [
        {
          "output_type": "execute_result",
          "data": {
            "text/plain": [
              "F     254\n",
              "US     67\n",
              "SE     66\n",
              "O      62\n",
              "PE     54\n",
              "LF     38\n",
              "SC     21\n",
              "A      21\n",
              "MN     17\n",
              "L      13\n",
              "FT     10\n",
              "PO      1\n",
              "Name: Label, dtype: int64"
            ]
          },
          "metadata": {},
          "execution_count": 5
        }
      ]
    },
    {
      "cell_type": "code",
      "source": [
        "df[df['Label']=='PO'].index"
      ],
      "metadata": {
        "id": "WjJBNDAkYE3o",
        "colab": {
          "base_uri": "https://localhost:8080/"
        },
        "outputId": "fc6a48ac-9ecb-4671-a049-32b68dd8735e"
      },
      "execution_count": 6,
      "outputs": [
        {
          "output_type": "execute_result",
          "data": {
            "text/plain": [
              "Int64Index([53], dtype='int64')"
            ]
          },
          "metadata": {},
          "execution_count": 6
        }
      ]
    },
    {
      "cell_type": "code",
      "source": [
        "df.drop(53, inplace=True)\n",
        "df.Label.value_counts()"
      ],
      "metadata": {
        "id": "RBR2uV3WR-UG",
        "colab": {
          "base_uri": "https://localhost:8080/"
        },
        "outputId": "5e880c6e-8df7-4712-fb0a-6fb8e8a81eff"
      },
      "execution_count": 7,
      "outputs": [
        {
          "output_type": "execute_result",
          "data": {
            "text/plain": [
              "F     254\n",
              "US     67\n",
              "SE     66\n",
              "O      62\n",
              "PE     54\n",
              "LF     38\n",
              "SC     21\n",
              "A      21\n",
              "MN     17\n",
              "L      13\n",
              "FT     10\n",
              "Name: Label, dtype: int64"
            ]
          },
          "metadata": {},
          "execution_count": 7
        }
      ]
    },
    {
      "cell_type": "code",
      "source": [
        "labels = df['Label'].drop_duplicates().to_numpy()\n",
        "labels"
      ],
      "metadata": {
        "id": "tsOP136MKkmg",
        "colab": {
          "base_uri": "https://localhost:8080/"
        },
        "outputId": "73e0e9d0-8673-4a4c-8aba-6a53affbbf52"
      },
      "execution_count": 8,
      "outputs": [
        {
          "output_type": "execute_result",
          "data": {
            "text/plain": [
              "array(['PE', 'LF', 'US', 'A', 'SE', 'F', 'FT', 'SC', 'O', 'L', 'MN'],\n",
              "      dtype=object)"
            ]
          },
          "metadata": {},
          "execution_count": 8
        }
      ]
    },
    {
      "cell_type": "code",
      "source": [
        "def print_plot(index):\n",
        "    example = df[df.index == index][['Requirement', 'Label']].values[0]\n",
        "    if len(example) > 0:\n",
        "        print(example[0])\n",
        "        print('Label:', example[1])\n",
        "print_plot(10)\n"
      ],
      "metadata": {
        "id": "vXa4MYggX3q6",
        "colab": {
          "base_uri": "https://localhost:8080/"
        },
        "outputId": "5eb610aa-27c7-44e0-f0cb-557db3076d4d"
      },
      "execution_count": 9,
      "outputs": [
        {
          "output_type": "stream",
          "name": "stdout",
          "text": [
            "'The system shall display the Events in a graph by time.'\n",
            "Label: F\n"
          ]
        }
      ]
    },
    {
      "cell_type": "code",
      "source": [
        "REPLACE_BY_SPACE_RE = re.compile('[/(){}\\[\\]\\|@,;]')\n",
        "BAD_SYMBOLS_RE = re.compile('[^0-9a-z #+_]')\n",
        "STOPWORDS = set(nltk.corpus.stopwords.words('english'))\n",
        "\n",
        "def clean_text(text):\n",
        "    \"\"\"\n",
        "        text: a string\n",
        "        \n",
        "        return: modified initial string\n",
        "    \"\"\"\n",
        "    text = BeautifulSoup(text, \"lxml\").text # HTML decoding\n",
        "    text = text.lower() # lowercase text\n",
        "    text = REPLACE_BY_SPACE_RE.sub(' ', text) # replace REPLACE_BY_SPACE_RE symbols by space in text\n",
        "    text = BAD_SYMBOLS_RE.sub('', text) # delete symbols which are in BAD_SYMBOLS_RE from text\n",
        "    text = ' '.join(word for word in text.split() if word not in STOPWORDS) # delete stopwors from text\n",
        "    return text"
      ],
      "metadata": {
        "id": "ko6IqK6UWHVE"
      },
      "execution_count": 10,
      "outputs": []
    },
    {
      "cell_type": "code",
      "source": [
        "df['Requirement'] = df['Requirement'].apply(clean_text)\n",
        "print_plot(10)"
      ],
      "metadata": {
        "id": "QqNPugqhVAoM",
        "colab": {
          "base_uri": "https://localhost:8080/"
        },
        "outputId": "ac4f556a-d815-44e6-9f5c-c6d6f1e512d3"
      },
      "execution_count": 11,
      "outputs": [
        {
          "output_type": "stream",
          "name": "stdout",
          "text": [
            "system shall display events graph time\n",
            "Label: F\n"
          ]
        }
      ]
    },
    {
      "cell_type": "code",
      "source": [
        "X = df.Requirement.to_numpy()\n",
        "y = df.Label.to_numpy()\n",
        "train_data, test_data, train_labels, test_labels = train_test_split(X, y, test_size =0.30, random_state=0)\n",
        "test_data, valid_data, test_labels, valid_labels = train_test_split(test_data, test_labels, test_size =0.5, random_state=0)"
      ],
      "metadata": {
        "id": "csroejtfanBG"
      },
      "execution_count": 12,
      "outputs": []
    },
    {
      "cell_type": "code",
      "source": [
        "train_data.shape, test_data.shape, valid_data.shape"
      ],
      "metadata": {
        "id": "lg2-1yldmhFN",
        "colab": {
          "base_uri": "https://localhost:8080/"
        },
        "outputId": "52b1b7c9-96ea-424e-9719-7e3e9606895a"
      },
      "execution_count": 13,
      "outputs": [
        {
          "output_type": "execute_result",
          "data": {
            "text/plain": [
              "((436,), (93,), (94,))"
            ]
          },
          "metadata": {},
          "execution_count": 13
        }
      ]
    },
    {
      "cell_type": "markdown",
      "source": [
        "# Balancing\n",
        "**Since the dataset is imbalanced, we will implement an library (SMOTE) to balance the train data only, so we won't face any problems in classification**"
      ],
      "metadata": {
        "id": "r7f3_M4kg6lb"
      }
    },
    {
      "cell_type": "code",
      "source": [
        "print(\"Before Balancing the Data\")\n",
        "counter = Counter(train_labels)\n",
        "for k,v in counter.items():\n",
        "\tper = v / len(train_labels) * 100\n",
        "\tprint('Class={}, n={} ({:.3f}%)'.format(k, v, per))\n",
        "# plot the distribution\n",
        "plt.bar(list(counter.keys()), counter.values())\n",
        "plt.show()\n",
        "\n",
        "# transform the dataset\n",
        "vec = TfidfVectorizer()\n",
        "\n",
        "# vectorize the words \n",
        "X_train  = vec.fit_transform(train_data).toarray()\n",
        "X_test   = vec.transform(test_data).toarray()\n",
        "X_valid  = vec.transform(valid_data).toarray()\n",
        "\n",
        "# just for convenient\n",
        "y_train = train_labels\n",
        "y_test  = test_labels\n",
        "y_valid = valid_labels\n",
        "\n",
        "# resample the training data\n",
        "sm = SMOTE(k_neighbors = 1, random_state = 0)\n",
        "X_train_res, y_train_res = sm.fit_resample(X_train, y_train) \n",
        "\n",
        "\n",
        "print(\"\\n\\nAfter Balancing the Data\")\n",
        "counter = Counter(y_train_res)\n",
        "for k,v in counter.items():\n",
        "\tper = v / len(y_train_res) * 100\n",
        "\tprint('Class={}, n={} ({:.3f}%)'.format(k, v, per))\n",
        "# plot the distribution\n",
        "plt.bar(list(counter.keys()), counter.values())\n",
        "plt.show()"
      ],
      "metadata": {
        "id": "IllV3RX-AtWd",
        "colab": {
          "base_uri": "https://localhost:8080/",
          "height": 964
        },
        "outputId": "5f92da82-9f86-4626-b30b-d8675e0d6aac"
      },
      "execution_count": 14,
      "outputs": [
        {
          "output_type": "stream",
          "name": "stdout",
          "text": [
            "Before Balancing the Data\n",
            "Class=SE, n=43 (9.862%)\n",
            "Class=F, n=182 (41.743%)\n",
            "Class=US, n=49 (11.239%)\n",
            "Class=PE, n=42 (9.633%)\n",
            "Class=A, n=15 (3.440%)\n",
            "Class=L, n=7 (1.606%)\n",
            "Class=O, n=40 (9.174%)\n",
            "Class=LF, n=30 (6.881%)\n",
            "Class=SC, n=13 (2.982%)\n",
            "Class=FT, n=5 (1.147%)\n",
            "Class=MN, n=10 (2.294%)\n"
          ]
        },
        {
          "output_type": "display_data",
          "data": {
            "image/png": "[encoded data removed]",
            "text/plain": [
              "<Figure size 432x288 with 1 Axes>"
            ]
          },
          "metadata": {}
        },
        {
          "output_type": "stream",
          "name": "stdout",
          "text": [
            "\n",
            "\n",
            "After Balancing the Data\n",
            "Class=SE, n=182 (9.091%)\n",
            "Class=F, n=182 (9.091%)\n",
            "Class=US, n=182 (9.091%)\n",
            "Class=PE, n=182 (9.091%)\n",
            "Class=A, n=182 (9.091%)\n",
            "Class=L, n=182 (9.091%)\n",
            "Class=O, n=182 (9.091%)\n",
            "Class=LF, n=182 (9.091%)\n",
            "Class=SC, n=182 (9.091%)\n",
            "Class=FT, n=182 (9.091%)\n",
            "Class=MN, n=182 (9.091%)\n"
          ]
        },
        {
          "output_type": "display_data",
          "data": {
            "image/png": "[encoded data removed]",
            "text/plain": [
              "<Figure size 432x288 with 1 Axes>"
            ]
          },
          "metadata": {}
        }
      ]
    },
    {
      "cell_type": "code",
      "source": [
        "X_train_res.shape, y_train_res.shape, X_test.shape, y_test.shape, X_valid.shape, y_valid.shape"
      ],
      "metadata": {
        "id": "hSgEjhqaJH0r",
        "colab": {
          "base_uri": "https://localhost:8080/"
        },
        "outputId": "f9eae0d6-d8a6-4aff-f0fe-f2135e5b392b"
      },
      "execution_count": 15,
      "outputs": [
        {
          "output_type": "execute_result",
          "data": {
            "text/plain": [
              "((2002, 1328), (2002,), (93, 1328), (93,), (94, 1328), (94,))"
            ]
          },
          "metadata": {},
          "execution_count": 15
        }
      ]
    },
    {
      "cell_type": "markdown",
      "source": [
        "# One-Hot-Encoding"
      ],
      "metadata": {
        "id": "7pKlT4Bn2xmq"
      }
    },
    {
      "cell_type": "code",
      "source": [
        "le = LabelEncoder()\n",
        "le.fit(y_train_res)\n",
        "def covert_to_onehot(y):\n",
        "    y  = le.transform(y)\n",
        "    enc = np.zeros((y.shape[0], 11))\n",
        "    for i in range(y.shape[0]):\n",
        "      if y[i] == 0:\n",
        "        enc[i, 0] = 1\n",
        "      elif y[i] == 1:\n",
        "        enc[i, 1] = 1\n",
        "      elif y[i] == 2:\n",
        "        enc[i, 2] = 1\n",
        "      elif y[i] == 3:\n",
        "        enc[i, 3] = 1\n",
        "      elif y[i] == 4:\n",
        "        enc[i, 4] = 1\n",
        "      elif y[i] == 5:\n",
        "        enc[i, 5] = 1\n",
        "      elif y[i] == 6:\n",
        "        enc[i, 6] = 1\n",
        "      elif y[i] == 7:\n",
        "        enc[i, 7] = 1\n",
        "      elif y[i] == 8:\n",
        "        enc[i, 8] = 1\n",
        "      elif y[i] == 9:\n",
        "        enc[i, 9] = 1\n",
        "      elif y[i] == 10:\n",
        "        enc[i, 10] = 1\n",
        "    return enc"
      ],
      "metadata": {
        "id": "TqYho-sdN_Mw"
      },
      "execution_count": 16,
      "outputs": []
    },
    {
      "cell_type": "code",
      "source": [
        "y_train_res.shape, y_test.shape, y_valid.shape"
      ],
      "metadata": {
        "id": "jstq7EwXeein",
        "colab": {
          "base_uri": "https://localhost:8080/"
        },
        "outputId": "62db9e92-401f-4ad8-8e62-0cfe5301d6e2"
      },
      "execution_count": 17,
      "outputs": [
        {
          "output_type": "execute_result",
          "data": {
            "text/plain": [
              "((2002,), (93,), (94,))"
            ]
          },
          "metadata": {},
          "execution_count": 17
        }
      ]
    },
    {
      "cell_type": "code",
      "source": [
        "y_train_res = covert_to_onehot(y_train_res)\n",
        "y_test  = covert_to_onehot(y_test)\n",
        "y_valid = covert_to_onehot(y_valid)"
      ],
      "metadata": {
        "id": "ATULdHyWho_s"
      },
      "execution_count": 18,
      "outputs": []
    },
    {
      "cell_type": "code",
      "source": [
        "y_train_res.shape, y_test.shape, y_valid.shape"
      ],
      "metadata": {
        "id": "D4xev5bxhnJB",
        "colab": {
          "base_uri": "https://localhost:8080/"
        },
        "outputId": "1c84876c-91bf-435f-b918-53f59702a919"
      },
      "execution_count": 19,
      "outputs": [
        {
          "output_type": "execute_result",
          "data": {
            "text/plain": [
              "((2002, 11), (93, 11), (94, 11))"
            ]
          },
          "metadata": {},
          "execution_count": 19
        }
      ]
    },
    {
      "cell_type": "markdown",
      "source": [
        "# Start Training\n",
        "**in this section, we will start training the data and split train, validation, and test data**"
      ],
      "metadata": {
        "id": "wa1g2e86jTiQ"
      }
    },
    {
      "cell_type": "code",
      "source": [
        "trainx = X_train_res\n",
        "trainy = y_train_res\n",
        "\n",
        "validx = X_valid\n",
        "validy = y_valid\n",
        "\n",
        "testx = X_test\n",
        "testy = y_test"
      ],
      "metadata": {
        "id": "xYgEZT8QmW7G"
      },
      "execution_count": 20,
      "outputs": []
    },
    {
      "cell_type": "code",
      "source": [
        "trainx.shape, trainy.shape, validx.shape, validy.shape, testx.shape, testy.shape"
      ],
      "metadata": {
        "id": "8ZvkqUQPqKW1",
        "colab": {
          "base_uri": "https://localhost:8080/"
        },
        "outputId": "6beef117-6727-4f31-ec18-145f92e363ca"
      },
      "execution_count": 21,
      "outputs": [
        {
          "output_type": "execute_result",
          "data": {
            "text/plain": [
              "((2002, 1328), (2002, 11), (94, 1328), (94, 11), (93, 1328), (93, 11))"
            ]
          },
          "metadata": {},
          "execution_count": 21
        }
      ]
    },
    {
      "cell_type": "code",
      "source": [
        "X=trainx\n",
        "Y=trainy"
      ],
      "metadata": {
        "id": "sc4iu8SkzXep"
      },
      "execution_count": 22,
      "outputs": []
    },
    {
      "cell_type": "markdown",
      "source": [
        "## Models"
      ],
      "metadata": {
        "id": "bzLOPGsD0xU6"
      }
    },
    {
      "cell_type": "markdown",
      "source": [
        "### Multinomial Naive Bayes"
      ],
      "metadata": {
        "id": "o2GKfAgCZBJu"
      }
    },
    {
      "cell_type": "code",
      "source": [
        "from sklearn.naive_bayes import MultinomialNB\n",
        "X_train_val_merge = np.vstack([trainx, validx])\n",
        "y_train_val_merge = np.vstack([trainy, validy])\n",
        "\n",
        "nb = MultinomialNB()\n",
        "nb.fit(X_train_val_merge, np.argmax(y_train_val_merge, axis=1))\n",
        "y_pred = nb.predict(testx)\n",
        "\n",
        "print('accuracy %s' % sklearn.metrics.accuracy_score(y_pred, np.argmax(testy, axis=1)))"
      ],
      "metadata": {
        "id": "l6bkDkltXvnP",
        "colab": {
          "base_uri": "https://localhost:8080/"
        },
        "outputId": "a9a82b96-d156-40cf-c8b2-ac5f78c06393"
      },
      "execution_count": 23,
      "outputs": [
        {
          "output_type": "stream",
          "name": "stdout",
          "text": [
            "accuracy 0.7526881720430108\n"
          ]
        }
      ]
    },
    {
      "cell_type": "markdown",
      "source": [
        "### KNN"
      ],
      "metadata": {
        "id": "yfkXFzhacjAH"
      }
    },
    {
      "cell_type": "markdown",
      "source": [
        "#### Fine Tuning"
      ],
      "metadata": {
        "id": "GZ7VIln8dhDm"
      }
    },
    {
      "cell_type": "markdown",
      "source": [
        "**KNN algorithm**\n",
        "\n",
        "**Implementing KNN algorithm below for training and validation data and plot the results from 3 to 33** *italicized text*"
      ],
      "metadata": {
        "id": "76YFOgszkFSB"
      }
    },
    {
      "cell_type": "code",
      "source": [
        "from sklearn.neighbors import KNeighborsRegressor\n",
        "neighbors = [i for i in range(3, 35, 2)]\n",
        "\n",
        "acc_train, acc_valid = [], []\n",
        "best_n = 3\n",
        "best_acc = 0.0\n",
        "for n in neighbors:\n",
        "    knn = KNeighborsRegressor(n_neighbors=n)\n",
        "    knn.fit(X, Y)\n",
        "\n",
        "    y_pred_on_train = knn.predict(trainx)\n",
        "    train_acc = sklearn.metrics.accuracy_score(np.argmax(y_pred_on_train, axis=1), np.argmax(trainy, axis=1))\n",
        "    acc_train.append(train_acc)\n",
        "\n",
        "    y_pred_on_valid = knn.predict(validx)\n",
        "    val_acc = sklearn.metrics.accuracy_score(np.argmax(y_pred_on_valid, axis=1), np.argmax(validy, axis=1))\n",
        "    acc_valid.append(val_acc)\n",
        "\n",
        "\n",
        "    print(\"Setting n_neighbors={}, train_loss={:.2f}, val_acc={:.2f}\".format(n, train_acc, val_acc))\n",
        "    if val_acc > best_acc:\n",
        "        best_n = n\n",
        "        best_acc = val_acc\n",
        "\n",
        "\n",
        "plt.plot(neighbors, acc_train)\n",
        "plt.plot(neighbors, acc_valid)\n",
        "plt.title('model accuracy')\n",
        "plt.ylabel('accuracy')\n",
        "plt.xlabel('depth')\n",
        "plt.legend(['train', 'valid'], loc='upper left')\n",
        "plt.show()\n",
        "\n",
        "\n",
        "\n",
        "print(\"\\nBest setting n_neighbors={}, val_acc={:.2f}\".format(best_n, best_acc))"
      ],
      "metadata": {
        "id": "n6NNObVPcii0",
        "colab": {
          "base_uri": "https://localhost:8080/",
          "height": 611
        },
        "outputId": "f0dedf9d-9ce4-468e-dd81-638628f20611"
      },
      "execution_count": 24,
      "outputs": [
        {
          "output_type": "stream",
          "name": "stdout",
          "text": [
            "Setting n_neighbors=3, train_loss=0.97, val_acc=0.56\n",
            "Setting n_neighbors=5, train_loss=0.96, val_acc=0.50\n",
            "Setting n_neighbors=7, train_loss=0.95, val_acc=0.50\n",
            "Setting n_neighbors=9, train_loss=0.93, val_acc=0.43\n",
            "Setting n_neighbors=11, train_loss=0.92, val_acc=0.45\n",
            "Setting n_neighbors=13, train_loss=0.91, val_acc=0.40\n",
            "Setting n_neighbors=15, train_loss=0.90, val_acc=0.38\n",
            "Setting n_neighbors=17, train_loss=0.88, val_acc=0.39\n",
            "Setting n_neighbors=19, train_loss=0.86, val_acc=0.37\n",
            "Setting n_neighbors=21, train_loss=0.85, val_acc=0.33\n",
            "Setting n_neighbors=23, train_loss=0.84, val_acc=0.32\n",
            "Setting n_neighbors=25, train_loss=0.84, val_acc=0.32\n",
            "Setting n_neighbors=27, train_loss=0.83, val_acc=0.30\n",
            "Setting n_neighbors=29, train_loss=0.82, val_acc=0.29\n",
            "Setting n_neighbors=31, train_loss=0.80, val_acc=0.28\n",
            "Setting n_neighbors=33, train_loss=0.79, val_acc=0.29\n"
          ]
        },
        {
          "output_type": "display_data",
          "data": {
            "image/png": "[encoded data removed]",
            "text/plain": [
              "<Figure size 432x288 with 1 Axes>"
            ]
          },
          "metadata": {}
        },
        {
          "output_type": "stream",
          "name": "stdout",
          "text": [
            "\n",
            "Best setting n_neighbors=3, val_acc=0.56\n"
          ]
        }
      ]
    },
    {
      "cell_type": "markdown",
      "source": [
        "#### Testing"
      ],
      "metadata": {
        "id": "cQ61VN9veL92"
      }
    },
    {
      "cell_type": "markdown",
      "source": [
        "**Testing the KNN and figuring out the best KNN number in accuracy**"
      ],
      "metadata": {
        "id": "zDSuWJHNkZwA"
      }
    },
    {
      "cell_type": "code",
      "source": [
        "X_train_val_merge = np.vstack([trainx, validx])\n",
        "y_train_val_merge = np.vstack([trainy, validy])\n",
        "\n",
        "knn = KNeighborsRegressor(n_neighbors=best_n)\n",
        "knn.fit(X_train_val_merge, y_train_val_merge)\n",
        "\n",
        "y_pred_on_test = knn.predict(testx)\n",
        "test_acc = sklearn.metrics.accuracy_score(np.argmax(y_pred_on_test, axis=1), np.argmax(testy, axis=1))\n",
        "\n",
        "\n",
        "print(\"Best setting n_neighbors={}, test_acc={:.2f}\".format(best_n, test_acc))"
      ],
      "metadata": {
        "id": "1Mskz5VocTp4",
        "colab": {
          "base_uri": "https://localhost:8080/"
        },
        "outputId": "97b1f706-dfee-4f00-d7da-e72bb13c2834"
      },
      "execution_count": 25,
      "outputs": [
        {
          "output_type": "stream",
          "name": "stdout",
          "text": [
            "Best setting n_neighbors=3, test_acc=0.67\n"
          ]
        }
      ]
    },
    {
      "cell_type": "markdown",
      "source": [
        "### DecisionTreeRegressor"
      ],
      "metadata": {
        "id": "-fFGxubzi8P8"
      }
    },
    {
      "cell_type": "markdown",
      "source": [
        "#### Fine Tuning"
      ],
      "metadata": {
        "id": "RXxOXEWzdro7"
      }
    },
    {
      "cell_type": "markdown",
      "source": [
        "**Using Decision Tree algorithm to find the train and validation accuracy from 3 to 29 and plotting the result**"
      ],
      "metadata": {
        "id": "MlXcHPk_lTtg"
      }
    },
    {
      "cell_type": "code",
      "source": [
        "from sklearn.tree import DecisionTreeRegressor\n",
        "depth_list = [i for i in range(3, 30)]\n",
        "criterion_list = ['squared_error', 'friedman_mse']\n",
        "\n",
        "best_depth = 3\n",
        "best_acc = 0.0\n",
        "best_criterion = 'squared_error'\n",
        "\n",
        "for criterion in criterion_list:\n",
        "    print(\"The Criterion is {}:\".format(criterion))\n",
        "    acc_train, acc_valid = [], []\n",
        "    for depth_val in depth_list:\n",
        "        clf = DecisionTreeRegressor(criterion=criterion, max_depth=depth_val, random_state=0)\n",
        "        clf.fit(X, Y)\n",
        "\n",
        "        y_pred_on_train = clf.predict(trainx)\n",
        "        train_acc = sklearn.metrics.accuracy_score(np.argmax(y_pred_on_train, axis=1), np.argmax(trainy, axis=1))\n",
        "        acc_train.append(train_acc)\n",
        "\n",
        "        y_pred_on_valid = clf.predict(validx)\n",
        "        val_acc = sklearn.metrics.accuracy_score(np.argmax(y_pred_on_valid, axis=1), np.argmax(validy, axis=1))\n",
        "        acc_valid.append(val_acc)\n",
        "\n",
        "\n",
        "        print(\"Setting depth={}, train_acc={:.2f}, val_acc={:.2f}\".format(depth_val, train_acc, val_acc))\n",
        "        if val_acc > best_acc:\n",
        "            best_criterion = criterion\n",
        "            best_acc = val_acc\n",
        "            best_depth = depth_val\n",
        "    plt.plot(depth_list, acc_train)\n",
        "    plt.plot(depth_list, acc_valid)\n",
        "    plt.title(f'{criterion} model accuracy')\n",
        "    plt.ylabel('accuracy')\n",
        "    plt.xlabel('depth')\n",
        "    plt.legend(['train', 'valid'], loc='upper left')\n",
        "    plt.show()\n",
        "    \n",
        "\n",
        "    \n",
        "print(\"Best setting criterion={}, best setting depth={}, val_acc={:.2f}\".format(best_criterion, best_depth, best_acc))"
      ],
      "metadata": {
        "colab": {
          "base_uri": "https://localhost:8080/",
          "height": 1000
        },
        "id": "z5By303TcTmu",
        "outputId": "26d679c7-cc64-487a-b02a-1479d0618480"
      },
      "execution_count": 27,
      "outputs": [
        {
          "output_type": "stream",
          "name": "stdout",
          "text": [
            "The Criterion is squared_error:\n",
            "Setting depth=3, train_acc=0.33, val_acc=0.06\n",
            "Setting depth=4, train_acc=0.40, val_acc=0.07\n",
            "Setting depth=5, train_acc=0.46, val_acc=0.09\n",
            "Setting depth=6, train_acc=0.53, val_acc=0.21\n",
            "Setting depth=7, train_acc=0.58, val_acc=0.46\n",
            "Setting depth=8, train_acc=0.62, val_acc=0.47\n",
            "Setting depth=9, train_acc=0.65, val_acc=0.46\n",
            "Setting depth=10, train_acc=0.68, val_acc=0.46\n",
            "Setting depth=11, train_acc=0.70, val_acc=0.49\n",
            "Setting depth=12, train_acc=0.73, val_acc=0.50\n",
            "Setting depth=13, train_acc=0.76, val_acc=0.53\n",
            "Setting depth=14, train_acc=0.79, val_acc=0.53\n",
            "Setting depth=15, train_acc=0.80, val_acc=0.54\n",
            "Setting depth=16, train_acc=0.81, val_acc=0.55\n",
            "Setting depth=17, train_acc=0.83, val_acc=0.55\n",
            "Setting depth=18, train_acc=0.84, val_acc=0.51\n",
            "Setting depth=19, train_acc=0.85, val_acc=0.51\n",
            "Setting depth=20, train_acc=0.87, val_acc=0.51\n",
            "Setting depth=21, train_acc=0.89, val_acc=0.53\n",
            "Setting depth=22, train_acc=0.90, val_acc=0.53\n",
            "Setting depth=23, train_acc=0.91, val_acc=0.50\n",
            "Setting depth=24, train_acc=0.93, val_acc=0.51\n",
            "Setting depth=25, train_acc=0.94, val_acc=0.50\n",
            "Setting depth=26, train_acc=0.94, val_acc=0.52\n",
            "Setting depth=27, train_acc=0.95, val_acc=0.52\n",
            "Setting depth=28, train_acc=0.96, val_acc=0.51\n",
            "Setting depth=29, train_acc=0.96, val_acc=0.52\n"
          ]
        },
        {
          "output_type": "display_data",
          "data": {
            "image/png": "[encoded data removed]",
            "text/plain": [
              "<Figure size 432x288 with 1 Axes>"
            ]
          },
          "metadata": {}
        },
        {
          "output_type": "stream",
          "name": "stdout",
          "text": [
            "The Criterion is friedman_mse:\n",
            "Setting depth=3, train_acc=0.12, val_acc=0.03\n",
            "Setting depth=4, train_acc=0.12, val_acc=0.03\n",
            "Setting depth=5, train_acc=0.13, val_acc=0.03\n",
            "Setting depth=6, train_acc=0.13, val_acc=0.03\n",
            "Setting depth=7, train_acc=0.13, val_acc=0.03\n",
            "Setting depth=8, train_acc=0.14, val_acc=0.03\n",
            "Setting depth=9, train_acc=0.14, val_acc=0.03\n",
            "Setting depth=10, train_acc=0.16, val_acc=0.03\n",
            "Setting depth=11, train_acc=0.17, val_acc=0.03\n",
            "Setting depth=12, train_acc=0.20, val_acc=0.03\n",
            "Setting depth=13, train_acc=0.22, val_acc=0.06\n",
            "Setting depth=14, train_acc=0.22, val_acc=0.10\n",
            "Setting depth=15, train_acc=0.24, val_acc=0.09\n",
            "Setting depth=16, train_acc=0.26, val_acc=0.06\n",
            "Setting depth=17, train_acc=0.28, val_acc=0.11\n",
            "Setting depth=18, train_acc=0.29, val_acc=0.09\n",
            "Setting depth=19, train_acc=0.29, val_acc=0.09\n",
            "Setting depth=20, train_acc=0.31, val_acc=0.10\n",
            "Setting depth=21, train_acc=0.32, val_acc=0.11\n",
            "Setting depth=22, train_acc=0.33, val_acc=0.10\n",
            "Setting depth=23, train_acc=0.34, val_acc=0.12\n",
            "Setting depth=24, train_acc=0.34, val_acc=0.12\n",
            "Setting depth=25, train_acc=0.34, val_acc=0.11\n",
            "Setting depth=26, train_acc=0.34, val_acc=0.10\n",
            "Setting depth=27, train_acc=0.34, val_acc=0.11\n",
            "Setting depth=28, train_acc=0.35, val_acc=0.12\n",
            "Setting depth=29, train_acc=0.35, val_acc=0.13\n"
          ]
        },
        {
          "output_type": "display_data",
          "data": {
            "image/png": "[encoded data removed]",
            "text/plain": [
              "<Figure size 432x288 with 1 Axes>"
            ]
          },
          "metadata": {}
        },
        {
          "output_type": "stream",
          "name": "stdout",
          "text": [
            "Best setting criterion=squared_error, best setting depth=16, val_acc=0.55\n"
          ]
        }
      ]
    },
    {
      "cell_type": "markdown",
      "source": [
        "#### Testing"
      ],
      "metadata": {
        "id": "L9bgY48teI6G"
      }
    },
    {
      "cell_type": "markdown",
      "source": [
        "**Testing Decision Tree algorithm to find the best depth and setting criterion**"
      ],
      "metadata": {
        "id": "GLc7W6VZlcfB"
      }
    },
    {
      "cell_type": "code",
      "source": [
        "X_train_val_merge = np.vstack([trainx, validx])\n",
        "y_train_val_merge = np.vstack([trainy, validy])\n",
        "\n",
        "clf = DecisionTreeRegressor(criterion=best_criterion, max_depth=best_depth, random_state=0)\n",
        "clf.fit(X_train_val_merge, y_train_val_merge)\n",
        "\n",
        "y_pred_on_test = clf.predict(testx)\n",
        "test_acc = sklearn.metrics.accuracy_score(np.argmax(y_pred_on_test, axis=1), np.argmax(testy, axis=1))\n",
        "\n",
        "\n",
        "print(\"Best setting criterion={}, best setting depth={}, test_acc={:.2f}\".format(best_criterion, best_depth, test_acc))"
      ],
      "metadata": {
        "colab": {
          "base_uri": "https://localhost:8080/"
        },
        "id": "DVwlOd__cTeC",
        "outputId": "07d16fd0-9d3b-419a-d4ce-d63ebc2328e9"
      },
      "execution_count": 28,
      "outputs": [
        {
          "output_type": "stream",
          "name": "stdout",
          "text": [
            "Best setting criterion=squared_error, best setting depth=16, test_acc=0.49\n"
          ]
        }
      ]
    },
    {
      "cell_type": "markdown",
      "source": [
        "### Random Forest"
      ],
      "metadata": {
        "id": "r-k8VmY4tPUg"
      }
    },
    {
      "cell_type": "markdown",
      "source": [
        "#### Fine Tuning"
      ],
      "metadata": {
        "id": "Kcxg0a6Adtd1"
      }
    },
    {
      "cell_type": "markdown",
      "source": [
        "**Using Random Forest algorithm to find the train and validation accuracy from 3 to 14 and plotting the result**"
      ],
      "metadata": {
        "id": "ulbgN6wZllj9"
      }
    },
    {
      "cell_type": "code",
      "source": [
        "from sklearn.ensemble import RandomForestClassifier\n",
        "# training and hyper-parameter tuning\n",
        "est_list = [i for i in range(1, 31)]\n",
        "criterion_list = ['gini', 'entropy']\n",
        "\n",
        "best_est = 3\n",
        "best_acc = 0.0\n",
        "best_criterion = 'gini'\n",
        "\n",
        "for criterion in criterion_list:\n",
        "    print(\"The Criterion is {}:\".format(criterion))\n",
        "    acc_train, acc_valid = [], []\n",
        "    for est_val in est_list:\n",
        "        clf = RandomForestClassifier(criterion=criterion, n_estimators=est_val, random_state=0)\n",
        "        clf.fit(X, Y)\n",
        "\n",
        "        y_pred_on_train = clf.predict(trainx)\n",
        "        train_acc = sklearn.metrics.accuracy_score(np.argmax(y_pred_on_train, axis=1), np.argmax(trainy, axis=1))\n",
        "        acc_train.append(train_acc)\n",
        "\n",
        "        y_pred_on_valid = clf.predict(validx)\n",
        "        val_acc = sklearn.metrics.accuracy_score(np.argmax(y_pred_on_valid, axis=1), np.argmax(validy, axis=1))\n",
        "        acc_valid.append(val_acc)\n",
        "\n",
        "        print(\"Setting n_estimators={}, train_acc={:.2f}, val_acc={:.2f}\".format(est_val, train_acc, val_acc))\n",
        "        if val_acc > best_acc:\n",
        "            best_criterion = criterion\n",
        "            best_acc = val_acc\n",
        "            best_est = est_val\n",
        "    plt.plot(est_list, acc_train)\n",
        "    plt.plot(est_list, acc_valid)\n",
        "    plt.title(f'{criterion} model accuracy')\n",
        "    plt.ylabel('accuracy')\n",
        "    plt.xlabel('n_estimators')\n",
        "    plt.legend(['train', 'valid'], loc='upper left')\n",
        "    plt.show()\n",
        "    \n",
        "\n",
        "    \n",
        "print(\"Best setting criterion={}, best setting n_estimators={}, val_acc={:.2f}\".format(best_criterion, best_est, best_acc))"
      ],
      "metadata": {
        "colab": {
          "base_uri": "https://localhost:8080/",
          "height": 1000
        },
        "id": "89ClRykftO9L",
        "outputId": "e3933a7a-fa34-457f-d63c-6fc2f296088b"
      },
      "execution_count": 29,
      "outputs": [
        {
          "output_type": "stream",
          "name": "stdout",
          "text": [
            "The Criterion is gini:\n",
            "Setting n_estimators=1, train_acc=0.96, val_acc=0.41\n",
            "Setting n_estimators=2, train_acc=0.94, val_acc=0.28\n",
            "Setting n_estimators=3, train_acc=0.98, val_acc=0.47\n",
            "Setting n_estimators=4, train_acc=0.97, val_acc=0.35\n",
            "Setting n_estimators=5, train_acc=0.99, val_acc=0.43\n",
            "Setting n_estimators=6, train_acc=0.98, val_acc=0.38\n",
            "Setting n_estimators=7, train_acc=0.99, val_acc=0.43\n",
            "Setting n_estimators=8, train_acc=0.99, val_acc=0.38\n",
            "Setting n_estimators=9, train_acc=1.00, val_acc=0.41\n",
            "Setting n_estimators=10, train_acc=1.00, val_acc=0.38\n",
            "Setting n_estimators=11, train_acc=1.00, val_acc=0.38\n",
            "Setting n_estimators=12, train_acc=1.00, val_acc=0.38\n",
            "Setting n_estimators=13, train_acc=1.00, val_acc=0.45\n",
            "Setting n_estimators=14, train_acc=1.00, val_acc=0.39\n",
            "Setting n_estimators=15, train_acc=1.00, val_acc=0.44\n",
            "Setting n_estimators=16, train_acc=1.00, val_acc=0.44\n",
            "Setting n_estimators=17, train_acc=1.00, val_acc=0.45\n",
            "Setting n_estimators=18, train_acc=1.00, val_acc=0.43\n",
            "Setting n_estimators=19, train_acc=1.00, val_acc=0.46\n",
            "Setting n_estimators=20, train_acc=1.00, val_acc=0.45\n",
            "Setting n_estimators=21, train_acc=1.00, val_acc=0.47\n",
            "Setting n_estimators=22, train_acc=1.00, val_acc=0.46\n",
            "Setting n_estimators=23, train_acc=1.00, val_acc=0.47\n",
            "Setting n_estimators=24, train_acc=1.00, val_acc=0.46\n",
            "Setting n_estimators=25, train_acc=1.00, val_acc=0.46\n",
            "Setting n_estimators=26, train_acc=1.00, val_acc=0.45\n",
            "Setting n_estimators=27, train_acc=1.00, val_acc=0.45\n",
            "Setting n_estimators=28, train_acc=1.00, val_acc=0.45\n",
            "Setting n_estimators=29, train_acc=1.00, val_acc=0.45\n",
            "Setting n_estimators=30, train_acc=1.00, val_acc=0.44\n"
          ]
        },
        {
          "output_type": "display_data",
          "data": {
            "image/png": "[encoded data removed]",
            "text/plain": [
              "<Figure size 432x288 with 1 Axes>"
            ]
          },
          "metadata": {}
        },
        {
          "output_type": "stream",
          "name": "stdout",
          "text": [
            "The Criterion is entropy:\n",
            "Setting n_estimators=1, train_acc=0.96, val_acc=0.43\n",
            "Setting n_estimators=2, train_acc=0.93, val_acc=0.33\n",
            "Setting n_estimators=3, train_acc=0.98, val_acc=0.50\n",
            "Setting n_estimators=4, train_acc=0.97, val_acc=0.37\n",
            "Setting n_estimators=5, train_acc=0.99, val_acc=0.47\n",
            "Setting n_estimators=6, train_acc=0.99, val_acc=0.39\n",
            "Setting n_estimators=7, train_acc=0.99, val_acc=0.46\n",
            "Setting n_estimators=8, train_acc=0.99, val_acc=0.40\n",
            "Setting n_estimators=9, train_acc=1.00, val_acc=0.45\n",
            "Setting n_estimators=10, train_acc=0.99, val_acc=0.41\n",
            "Setting n_estimators=11, train_acc=1.00, val_acc=0.45\n",
            "Setting n_estimators=12, train_acc=1.00, val_acc=0.40\n",
            "Setting n_estimators=13, train_acc=1.00, val_acc=0.44\n",
            "Setting n_estimators=14, train_acc=1.00, val_acc=0.43\n",
            "Setting n_estimators=15, train_acc=1.00, val_acc=0.45\n",
            "Setting n_estimators=16, train_acc=1.00, val_acc=0.44\n",
            "Setting n_estimators=17, train_acc=1.00, val_acc=0.46\n",
            "Setting n_estimators=18, train_acc=1.00, val_acc=0.43\n",
            "Setting n_estimators=19, train_acc=1.00, val_acc=0.45\n",
            "Setting n_estimators=20, train_acc=1.00, val_acc=0.43\n",
            "Setting n_estimators=21, train_acc=1.00, val_acc=0.44\n",
            "Setting n_estimators=22, train_acc=1.00, val_acc=0.41\n",
            "Setting n_estimators=23, train_acc=1.00, val_acc=0.44\n",
            "Setting n_estimators=24, train_acc=1.00, val_acc=0.41\n",
            "Setting n_estimators=25, train_acc=1.00, val_acc=0.45\n",
            "Setting n_estimators=26, train_acc=1.00, val_acc=0.44\n",
            "Setting n_estimators=27, train_acc=1.00, val_acc=0.46\n",
            "Setting n_estimators=28, train_acc=1.00, val_acc=0.45\n",
            "Setting n_estimators=29, train_acc=1.00, val_acc=0.47\n",
            "Setting n_estimators=30, train_acc=1.00, val_acc=0.44\n"
          ]
        },
        {
          "output_type": "display_data",
          "data": {
            "image/png": "[encoded data removed]",
            "text/plain": [
              "<Figure size 432x288 with 1 Axes>"
            ]
          },
          "metadata": {}
        },
        {
          "output_type": "stream",
          "name": "stdout",
          "text": [
            "Best setting criterion=entropy, best setting n_estimators=3, val_acc=0.50\n"
          ]
        }
      ]
    },
    {
      "cell_type": "markdown",
      "source": [
        "#### Testing"
      ],
      "metadata": {
        "id": "TehRcGxEeF0g"
      }
    },
    {
      "cell_type": "markdown",
      "source": [
        "**Testing Random Forest algorithm to find the best depth and setting criterion**"
      ],
      "metadata": {
        "id": "K7Yx_-JulsTs"
      }
    },
    {
      "cell_type": "code",
      "source": [
        "X_train_val_merge = np.vstack([trainx, validx])\n",
        "y_train_val_merge = np.vstack([trainy, validy])\n",
        "\n",
        "rfc = RandomForestClassifier(criterion=best_criterion, n_estimators=best_est, random_state=0)\n",
        "rfc.fit(X_train_val_merge, y_train_val_merge)\n",
        "\n",
        "y_pred_on_test = rfc.predict(testx)\n",
        "test_acc = sklearn.metrics.accuracy_score(np.argmax(y_pred_on_test, axis=1), np.argmax(testy, axis=1))\n",
        "\n",
        "print(\"Best setting criterion={}, best setting n_estimators={}, test_acc={:.2f}\".format(best_criterion, best_est, test_acc))"
      ],
      "metadata": {
        "colab": {
          "base_uri": "https://localhost:8080/"
        },
        "id": "02cH9RWAtO41",
        "outputId": "57ed29e8-b327-47f2-e56f-5d779025a97c"
      },
      "execution_count": 30,
      "outputs": [
        {
          "output_type": "stream",
          "name": "stdout",
          "text": [
            "Best setting criterion=entropy, best setting n_estimators=3, test_acc=0.55\n"
          ]
        }
      ]
    },
    {
      "cell_type": "markdown",
      "source": [
        "### Adaboost"
      ],
      "metadata": {
        "id": "9anxBy0kbxIL"
      }
    },
    {
      "cell_type": "markdown",
      "source": [
        "#### Fine Tuning"
      ],
      "metadata": {
        "id": "Gdz46fCmdvxE"
      }
    },
    {
      "cell_type": "markdown",
      "source": [
        "**Using Adaboost algorithm to find the train and validation accuracy using 2 techniques (SAMME) (SAMME.R)**"
      ],
      "metadata": {
        "id": "5iUw7tmpl0tY"
      }
    },
    {
      "cell_type": "code",
      "source": [
        "from sklearn.ensemble import AdaBoostClassifier\n",
        "from sklearn.multioutput import MultiOutputRegressor\n",
        "# training and hyper-parameter tuning\n",
        "algorithm = ['SAMME', 'SAMME.R']\n",
        "\n",
        "base = RandomForestClassifier(criterion=best_criterion, n_estimators=best_est, random_state=0)\n",
        "best_acc = 0.0\n",
        "best_alg = 'SAMME'\n",
        "\n",
        "for alg in algorithm:\n",
        "    clf = AdaBoostClassifier(base_estimator=base, random_state=0, n_estimators=100, algorithm=alg)\n",
        "    wrapper = MultiOutputRegressor(clf)\n",
        "    wrapper.fit(X, Y)\n",
        "\n",
        "    y_pred_on_train = wrapper.predict(trainx)\n",
        "    train_acc = sklearn.metrics.accuracy_score(np.argmax(y_pred_on_train, axis=1), np.argmax(trainy, axis=1))\n",
        "\n",
        "    y_pred_on_valid = wrapper.predict(validx)\n",
        "    val_acc = sklearn.metrics.accuracy_score(np.argmax(y_pred_on_valid, axis=1), np.argmax(validy, axis=1))\n",
        "    \n",
        "\n",
        "\n",
        "    print(\"Setting algorithm={}, train_acc={:.2f}, val_acc={:.2f}\".format(alg, train_acc, val_acc))\n",
        "    if val_acc > best_acc:\n",
        "        best_alg = alg\n",
        "        best_acc = val_acc\n",
        "    \n",
        "print(\"Best setting algorithm={}, val_acc={:.2f}\".format(best_alg, best_acc))"
      ],
      "metadata": {
        "colab": {
          "base_uri": "https://localhost:8080/"
        },
        "id": "-XsrwsTfbzs4",
        "outputId": "3e5c5977-03c6-4da1-af6c-859f696b0049"
      },
      "execution_count": 31,
      "outputs": [
        {
          "output_type": "stream",
          "name": "stdout",
          "text": [
            "Setting algorithm=SAMME, train_acc=1.00, val_acc=0.41\n",
            "Setting algorithm=SAMME.R, train_acc=1.00, val_acc=0.40\n",
            "Best setting algorithm=SAMME, val_acc=0.41\n"
          ]
        }
      ]
    },
    {
      "cell_type": "markdown",
      "source": [
        "#### Testing"
      ],
      "metadata": {
        "id": "L5NPuJVPd1ZM"
      }
    },
    {
      "cell_type": "markdown",
      "source": [
        "**Testing Adaboost algorithm to find the best setting algorithm with the accuracy**"
      ],
      "metadata": {
        "id": "xUsMN0ksmGyR"
      }
    },
    {
      "cell_type": "code",
      "source": [
        "X_train_val_merge = np.vstack([trainx, validx])\n",
        "y_train_val_merge = np.vstack([trainy, validy])\n",
        "\n",
        "clf = AdaBoostClassifier(base_estimator=base,  random_state=0, n_estimators=100, algorithm=best_alg)\n",
        "wrapper = MultiOutputRegressor(clf)\n",
        "wrapper.fit(X_train_val_merge, y_train_val_merge)\n",
        "\n",
        "test_acc = wrapper.score(testx, testy)\n",
        "\n",
        "print(\"Best setting algorithm={}, test_acc={:.2f}\".format(best_alg, test_acc))"
      ],
      "metadata": {
        "colab": {
          "base_uri": "https://localhost:8080/"
        },
        "id": "T5KlcPIbcUvz",
        "outputId": "9fe42daa-b853-4134-fe45-d0b978208202"
      },
      "execution_count": 32,
      "outputs": [
        {
          "output_type": "stream",
          "name": "stdout",
          "text": [
            "Best setting algorithm=SAMME, test_acc=0.17\n"
          ]
        }
      ]
    },
    {
      "cell_type": "markdown",
      "source": [
        "### SVM"
      ],
      "metadata": {
        "id": "swUT7akvh0Ti"
      }
    },
    {
      "cell_type": "code",
      "source": [
        "from sklearn.svm import SVC\n",
        "\n",
        "kernels = ['linear', 'poly', 'rbf', 'sigmoid']\n",
        "\n",
        "best_kernel = 'linear'\n",
        "best_acc = 0.0\n",
        "acc_train, acc_valid = [], []\n",
        "\n",
        "for k in kernels:\n",
        "    svclassifier = SVC(kernel=k,)\n",
        "    svclassifier.fit(X, np.argmax(Y, axis=1))\n",
        "    \n",
        "    \n",
        "    y_pred_on_train = wrapper.predict(trainx)\n",
        "    train_acc = sklearn.metrics.accuracy_score(np.argmax(y_pred_on_train, axis=1), np.argmax(trainy, axis=1))\n",
        "\n",
        "    y_pred_on_valid = wrapper.predict(validx)\n",
        "    val_acc = sklearn.metrics.accuracy_score(np.argmax(y_pred_on_valid, axis=1), np.argmax(validy, axis=1))\n",
        "    \n",
        "    \n",
        "    print(\"Setting kernel={}, train_acc={:.2f}, val_acc={:.2f}\".format(k, train_acc, val_acc))\n",
        "    if val_acc > best_acc:\n",
        "        best_acc = val_acc\n",
        "        best_kernel = k\n",
        "        \n",
        "print(\"Best setting kernel={}, val_acc={:.2f}\".format(best_kernel, best_acc))\n"
      ],
      "metadata": {
        "colab": {
          "base_uri": "https://localhost:8080/"
        },
        "id": "9SVETdtKh2Dz",
        "outputId": "8a562d6a-070e-4d5c-9ff9-7a2550480646"
      },
      "execution_count": 33,
      "outputs": [
        {
          "output_type": "stream",
          "name": "stdout",
          "text": [
            "Setting kernel=linear, train_acc=1.00, val_acc=0.96\n",
            "Setting kernel=poly, train_acc=1.00, val_acc=0.96\n",
            "Setting kernel=rbf, train_acc=1.00, val_acc=0.96\n",
            "Setting kernel=sigmoid, train_acc=1.00, val_acc=0.96\n",
            "Best setting kernel=linear, val_acc=0.96\n"
          ]
        }
      ]
    },
    {
      "cell_type": "code",
      "source": [
        "X_train_val_merge = np.vstack([trainx, validx])\n",
        "y_train_val_merge = np.vstack([trainy, validy])\n",
        "\n",
        "svclassifier = SVC(kernel=best_kernel)\n",
        "svclassifier.fit(X_train_val_merge, np.argmax(y_train_val_merge, axis=1))\n",
        "\n",
        "y_pred_on_test = svclassifier.predict(testx)\n",
        "test_acc = sklearn.metrics.accuracy_score(y_pred_on_test, np.argmax(testy, axis=1))\n",
        "\n",
        "print(\"Best setting kernel={}, test_acc={:.2f}\".format(best_kernel, test_acc))"
      ],
      "metadata": {
        "colab": {
          "base_uri": "https://localhost:8080/"
        },
        "id": "VkLoiNoTjKpU",
        "outputId": "11b2d7bd-900a-4be9-f91e-4546f6140516"
      },
      "execution_count": 34,
      "outputs": [
        {
          "output_type": "stream",
          "name": "stdout",
          "text": [
            "Best setting kernel=linear, test_acc=0.76\n"
          ]
        }
      ]
    },
    {
      "cell_type": "markdown",
      "source": [
        "## Predicting\n",
        "**Using the best model among the previous models in testing, which is `SVC` because it has test accuarcy of 0.76**"
      ],
      "metadata": {
        "id": "oxFQcOYXeURo"
      }
    },
    {
      "cell_type": "markdown",
      "source": [
        "The Hyperparameter for the random forest are:\n",
        "* kernel='linear'\n"
      ],
      "metadata": {
        "id": "IAvwd51M4RxN"
      }
    },
    {
      "cell_type": "markdown",
      "source": [
        "### Merge the training and validation"
      ],
      "metadata": {
        "id": "d1MGO2Pb4gbQ"
      }
    },
    {
      "cell_type": "code",
      "source": [
        "X_train_val_merge = np.vstack([trainx, validx])\n",
        "y_train_val_merge = np.vstack([trainy, validy])"
      ],
      "metadata": {
        "id": "ziSvtJXE4jCQ"
      },
      "execution_count": 35,
      "outputs": []
    },
    {
      "cell_type": "markdown",
      "source": [
        "### Define and fit the model"
      ],
      "metadata": {
        "id": "xc4kspUu4rai"
      }
    },
    {
      "cell_type": "code",
      "source": [
        "svclassifier = SVC(kernel='linear')\n",
        "svclassifier.fit(X_train_val_merge, np.argmax(y_train_val_merge, axis=1))"
      ],
      "metadata": {
        "colab": {
          "base_uri": "https://localhost:8080/"
        },
        "id": "cyexsXBq4tKl",
        "outputId": "16279ca9-5df4-4965-c6a4-d8f26dc26aff"
      },
      "execution_count": 36,
      "outputs": [
        {
          "output_type": "execute_result",
          "data": {
            "text/plain": [
              "SVC(kernel='linear')"
            ]
          },
          "metadata": {},
          "execution_count": 36
        }
      ]
    },
    {
      "cell_type": "markdown",
      "source": [
        "### Pridict on the test set"
      ],
      "metadata": {
        "id": "9H0xpZ6446X9"
      }
    },
    {
      "cell_type": "code",
      "source": [
        "y_pred = svclassifier.predict(testx)"
      ],
      "metadata": {
        "id": "mr4Y-AYx5C_3"
      },
      "execution_count": 37,
      "outputs": []
    },
    {
      "cell_type": "markdown",
      "source": [
        "### Confusion Matrix"
      ],
      "metadata": {
        "id": "7sJbLAtVsUNP"
      }
    },
    {
      "cell_type": "code",
      "source": [
        "conf_mat = sklearn.metrics.confusion_matrix(np.argmax(testy, axis=1), y_pred)\n",
        "fig, ax = plt.subplots(figsize=(10,10))\n",
        "sns.heatmap(conf_mat.T, annot=True, fmt='d',\n",
        "            xticklabels=le.classes_, yticklabels=le.classes_, cmap=plt.cm.Blues)\n",
        "plt.ylabel('Predicted')\n",
        "plt.xlabel('Actual')\n",
        "ax.xaxis.tick_top()\n",
        "ax.xaxis.set_label_position('top')\n",
        "ax.set_xticks(np.arange(conf_mat.shape[1]) + 0.5, minor=False)\n",
        "ax.set_yticks(np.arange(conf_mat.shape[0]) + 0.5, minor=False)\n",
        "\n",
        "plt.show()"
      ],
      "metadata": {
        "colab": {
          "base_uri": "https://localhost:8080/",
          "height": 611
        },
        "id": "MxLzXWlu5PtV",
        "outputId": "b6281ed2-8c37-4ed5-ca17-d0568a8c5d14"
      },
      "execution_count": 38,
      "outputs": [
        {
          "output_type": "display_data",
          "data": {
            "image/png": "[encoded data removed]",
            "text/plain": [
              "<Figure size 720x720 with 2 Axes>"
            ]
          },
          "metadata": {}
        }
      ]
    },
    {
      "cell_type": "markdown",
      "source": [
        "**Here You can see the confusion matrix of the predicted and actual `testx`. The classes are not balanced in the test, but you can see that the diagonal is almost perfect, with some errors.**\n",
        "\n",
        "We can see that the all actual 'F' class is predicted correctly, but not all the predicted 'F' class is correct. "
      ],
      "metadata": {
        "id": "ljD8XvIGmowr"
      }
    },
    {
      "cell_type": "markdown",
      "source": [
        "**If you divide number of correct samples `the sum of the diagnoal = 71` with the total test samples `93 samples` (71 / 93) you will get an accuracy of 76.34%**"
      ],
      "metadata": {
        "id": "HKBHWPe_tFja"
      }
    },
    {
      "cell_type": "markdown",
      "source": [
        "#Conclusion"
      ],
      "metadata": {
        "id": "NqXRAdb8yG99"
      }
    },
    {
      "cell_type": "markdown",
      "source": [
        "**Eventually, we dealt with Natural Language Processing of Software Requirements classification. We used 5 models (techniques) to find the most suitable model in train and test validation scores to predict another data, which are:**\n",
        "\n",
        "* Multinomial Naive Bayes\n",
        "* K-Nearest Neighbors\n",
        "* Decision Tree Regressor\n",
        "* Random Forest\n",
        "* Adaboost\n",
        "* Support Vector Classification\n",
        "\n",
        "\n",
        "**Models Stats:** `from high test_acc to low`\n",
        "* `SVC`:\n",
        " * `76.34%` test accuaracy\n",
        " * `96%` validation accuaracy\n",
        "* `MultinomialNB`:\n",
        " * `75.27%` test accuaracy\n",
        "* `KNN`:\n",
        " * `67%` test accuaracy\n",
        " * `56%` validation accuaracy\n",
        "* `RandomForestClassifier`:\n",
        " * `55%` test accuaracy\n",
        " * `50%` validation accuaracy\n",
        "* `DecisionTreeRegressor`:\n",
        " * `49%` test accuaracy\n",
        " * `55%` validation accuaracy\n",
        "* `AdaBoostClassifier`:\n",
        " * `17%` test accuaracy\n",
        " * `41%` validation accuaracy"
      ],
      "metadata": {
        "id": "tFgFIkXyu1wA"
      }
    },
    {
      "cell_type": "markdown",
      "source": [
        "# Refrences"
      ],
      "metadata": {
        "id": "mbaiG8YzrB-2"
      }
    },
    {
      "cell_type": "markdown",
      "source": [
        "* The Course Assignments \n",
        "* Multi-Class Text Classification Model Comparison and Selection - https://towardsdatascience.com/multi-class-text-classification-model-comparison-and-selection-5eb066197568\n",
        "* Comparing Support Vector Machines and Decision Trees for Text Classification - https://www.codementor.io/blog/text-classification-6mmol0q8oj\n",
        "* TensorFlow YouTube Channel - https://www.youtube.com/channel/UC0rqucBdTuFTjJiefW5t-IQ\n",
        "* Multinomial Logistic Regression With Python - https://machinelearningmastery.com/multinomial-logistic-regression-with-python/\n",
        "* Yet Another Twitter Sentiment Analysis Part 1 — tackling class imbalance - https://towardsdatascience.com/yet-another-twitter-sentiment-analysis-part-1-tackling-class-imbalance-4d7a7f717d44\n",
        "* How to Develop Multi-Output Regression Models with Python - https://machinelearningmastery.com/multi-output-regression-models-with-python/"
      ],
      "metadata": {
        "id": "-n3CGdawrH4Q"
      }
    }
  ]
}